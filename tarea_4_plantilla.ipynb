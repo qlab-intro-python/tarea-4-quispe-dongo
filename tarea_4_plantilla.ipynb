{
 "cells": [
  {
   "cell_type": "markdown",
   "metadata": {},
   "source": [
    "# **Tarea Nº 4**\n",
    "Scope: APIs"
   ]
  },
  {
   "cell_type": "markdown",
   "metadata": {},
   "source": [
    "Curso:          Fundamentos de Programación en Python para Macroeconomía y Finanzas     \n",
    "Profesor:       Victor Fuentes Campos     "
   ]
  },
  {
   "cell_type": "markdown",
   "metadata": {},
   "source": [
    "- Fecha y hora de entrega: Viernes 12 de enero, 11:59pm\n",
    "- Agregue los nombres de las personas con las que discutió esta tarea: ____ Armando Paredes ______\n",
    "- Envíe su tarea haciendo el `push` de su código a su repo en GitHub Classroom: "
   ]
  },
  {
   "cell_type": "markdown",
   "metadata": {},
   "source": [
    "The Central Bank Reserve of Perú (BCRP) holds a list of datasets that are among the most comprehensive for macroeconomic purposes. In this exercise, we'll retrieve data from the [BCRP API](https://estadisticas.bcrp.gob.pe/estadisticas/series/ayuda/api) and explore the impact of pandemics"
   ]
  },
  {
   "cell_type": "markdown",
   "metadata": {},
   "source": [
    "## Before starting"
   ]
  },
  {
   "cell_type": "markdown",
   "metadata": {},
   "source": [
    "- You must pull the necessary data using `get` and `requests`\n",
    "- You are required to apply the concepts learned in the previous sessions (`pandas`, `if`, `loop`, `function`)\n",
    "- Hint: here is the BCRP url structure for the APIs call:\n",
    "```html\n",
    "https://estadisticas.bcrp.gob.pe/estadisticas/series/api/[códigos de series]/[formato de salida]/[periodo inicial]/[periodo final]/[idioma]\n",
    "```"
   ]
  },
  {
   "cell_type": "markdown",
   "metadata": {},
   "source": [
    "## The very long run"
   ]
  },
  {
   "cell_type": "markdown",
   "metadata": {},
   "source": [
    "1. Locate the \"Estadísticas de 100 años del BCRP\" section in the BCRP´s series data statistics [here](https://estadisticas.bcrp.gob.pe/estadisticas/series/index) and identify the necessary code for the serie **`PBI (Mill S/ 2007)`**. Later, add manually the annual GDP values for 2022 and 2023 (be careful with the units of data). Then, **calculate** the Peruvian annual GDP growth (%) since 1922 to 2023. Finally, plot it using a very simple graph through `matplotlib` and provide critical insights (no more than 100 words)\n",
    "\n",
    "    Hint1: use `.json()` for exploring the `content`. Your data is inside `[\"periods\"]`\n",
    "    \n",
    "    Hint2: the graph must looks something like this: <img src=\"growth_gdp_long_run.png\" max-width=\"300\">\n",
    "    "
   ]
  },
  {
   "cell_type": "code",
   "execution_count": 234,
   "metadata": {},
   "outputs": [],
   "source": [
    "# Solution"
   ]
  },
  {
   "cell_type": "code",
   "execution_count": 235,
   "metadata": {},
   "outputs": [],
   "source": [
    "import requests\n",
    "import pandas as pd\n",
    "import numpy as np\n",
    "import matplotlib.pyplot as plt"
   ]
  },
  {
   "cell_type": "code",
   "execution_count": 236,
   "metadata": {},
   "outputs": [],
   "source": [
    "url_base = 'https://estadisticas.bcrp.gob.pe/estadisticas/series/api/'\n",
    "cod_ser = 'PD39563DA'\n",
    "formato = '/json'\n",
    "per = '/1922/2021'\n",
    "\n",
    "url = f'{url_base}{cod_ser}{formato}{per}'"
   ]
  },
  {
   "cell_type": "code",
   "execution_count": 237,
   "metadata": {},
   "outputs": [],
   "source": [
    "response = requests.get(url)"
   ]
  },
  {
   "cell_type": "code",
   "execution_count": 238,
   "metadata": {},
   "outputs": [],
   "source": [
    "response_json = response.json()"
   ]
  },
  {
   "cell_type": "code",
   "execution_count": 239,
   "metadata": {},
   "outputs": [
    {
     "data": {
      "text/plain": [
       "dict_keys(['config', 'periods'])"
      ]
     },
     "execution_count": 239,
     "metadata": {},
     "output_type": "execute_result"
    }
   ],
   "source": [
    "response_json.keys()"
   ]
  },
  {
   "cell_type": "code",
   "execution_count": 240,
   "metadata": {},
   "outputs": [
    {
     "data": {
      "text/plain": [
       "'PBI Sectorial - PBI (Mill S/ 2007)'"
      ]
     },
     "execution_count": 240,
     "metadata": {},
     "output_type": "execute_result"
    }
   ],
   "source": [
    "nombre_serie = response_json['config']['series'][0]['name']\n",
    "nombre_serie"
   ]
  },
  {
   "cell_type": "code",
   "execution_count": 241,
   "metadata": {},
   "outputs": [],
   "source": [
    "data_raw = response_json['periods']\n",
    "\n",
    "fecha_list = []\n",
    "pbi_list = []\n",
    "\n",
    "for element in data_raw:\n",
    "    fecha_list.append(element['name'])\n",
    "    pbi_list.append(element['values'][0])"
   ]
  },
  {
   "cell_type": "code",
   "execution_count": 242,
   "metadata": {},
   "outputs": [],
   "source": [
    "pbi_dict = {'fechas': fecha_list, 'pbi': pbi_list}\n",
    "pbi_df = pd.DataFrame(pbi_dict)\n",
    "pbi_df['pbi'] = pbi_df['pbi'].astype(float)"
   ]
  },
  {
   "cell_type": "code",
   "execution_count": 243,
   "metadata": {},
   "outputs": [
    {
     "data": {
      "text/html": [
       "<div>\n",
       "<style scoped>\n",
       "    .dataframe tbody tr th:only-of-type {\n",
       "        vertical-align: middle;\n",
       "    }\n",
       "\n",
       "    .dataframe tbody tr th {\n",
       "        vertical-align: top;\n",
       "    }\n",
       "\n",
       "    .dataframe thead th {\n",
       "        text-align: right;\n",
       "    }\n",
       "</style>\n",
       "<table border=\"1\" class=\"dataframe\">\n",
       "  <thead>\n",
       "    <tr style=\"text-align: right;\">\n",
       "      <th></th>\n",
       "      <th>fechas</th>\n",
       "      <th>pbi</th>\n",
       "    </tr>\n",
       "  </thead>\n",
       "  <tbody>\n",
       "    <tr>\n",
       "      <th>0</th>\n",
       "      <td>1922</td>\n",
       "      <td>14122.032222</td>\n",
       "    </tr>\n",
       "    <tr>\n",
       "      <th>1</th>\n",
       "      <td>1923</td>\n",
       "      <td>14756.217373</td>\n",
       "    </tr>\n",
       "    <tr>\n",
       "      <th>2</th>\n",
       "      <td>1924</td>\n",
       "      <td>16069.798806</td>\n",
       "    </tr>\n",
       "    <tr>\n",
       "      <th>3</th>\n",
       "      <td>1925</td>\n",
       "      <td>16575.199473</td>\n",
       "    </tr>\n",
       "    <tr>\n",
       "      <th>4</th>\n",
       "      <td>1926</td>\n",
       "      <td>18130.193094</td>\n",
       "    </tr>\n",
       "    <tr>\n",
       "      <th>...</th>\n",
       "      <td>...</td>\n",
       "      <td>...</td>\n",
       "    </tr>\n",
       "    <tr>\n",
       "      <th>95</th>\n",
       "      <td>2017</td>\n",
       "      <td>514215.000000</td>\n",
       "    </tr>\n",
       "    <tr>\n",
       "      <th>96</th>\n",
       "      <td>2018</td>\n",
       "      <td>534665.000000</td>\n",
       "    </tr>\n",
       "    <tr>\n",
       "      <th>97</th>\n",
       "      <td>2019</td>\n",
       "      <td>546605.000000</td>\n",
       "    </tr>\n",
       "    <tr>\n",
       "      <th>98</th>\n",
       "      <td>2020</td>\n",
       "      <td>486402.086278</td>\n",
       "    </tr>\n",
       "    <tr>\n",
       "      <th>99</th>\n",
       "      <td>2021</td>\n",
       "      <td>552312.155430</td>\n",
       "    </tr>\n",
       "  </tbody>\n",
       "</table>\n",
       "<p>100 rows × 2 columns</p>\n",
       "</div>"
      ],
      "text/plain": [
       "   fechas            pbi\n",
       "0    1922   14122.032222\n",
       "1    1923   14756.217373\n",
       "2    1924   16069.798806\n",
       "3    1925   16575.199473\n",
       "4    1926   18130.193094\n",
       "..    ...            ...\n",
       "95   2017  514215.000000\n",
       "96   2018  534665.000000\n",
       "97   2019  546605.000000\n",
       "98   2020  486402.086278\n",
       "99   2021  552312.155430\n",
       "\n",
       "[100 rows x 2 columns]"
      ]
     },
     "execution_count": 243,
     "metadata": {},
     "output_type": "execute_result"
    }
   ],
   "source": [
    "pbi_df"
   ]
  },
  {
   "cell_type": "code",
   "execution_count": 244,
   "metadata": {},
   "outputs": [],
   "source": [
    "pbi_2022 = 1.027*pbi_df['pbi'].iloc[99]\n",
    "pbi_2023 = 0.995*pbi_2022"
   ]
  },
  {
   "cell_type": "code",
   "execution_count": 245,
   "metadata": {},
   "outputs": [],
   "source": [
    "pbi_procesado = pd.concat( [ pbi_df , pd.DataFrame({'fechas':[\"2022\", \"2023\"], 'pbi':[pbi_2022, pbi_2023]}) ], ignore_index=True ) "
   ]
  },
  {
   "cell_type": "code",
   "execution_count": 246,
   "metadata": {},
   "outputs": [],
   "source": [
    "pbi_procesado['pbi'] = pbi_procesado['pbi']"
   ]
  },
  {
   "cell_type": "code",
   "execution_count": 247,
   "metadata": {},
   "outputs": [],
   "source": [
    "pbi_procesado['var_pbi'] = pbi_procesado['pbi'].pct_change() "
   ]
  },
  {
   "cell_type": "code",
   "execution_count": 248,
   "metadata": {},
   "outputs": [],
   "source": [
    "pbi_procesado['fechas'] = pbi_procesado['fechas'].astype(int)"
   ]
  },
  {
   "cell_type": "code",
   "execution_count": 249,
   "metadata": {},
   "outputs": [
    {
     "data": {
      "image/png": "[encoded data removed]",
      "text/plain": [
       "<Figure size 1200x500 with 1 Axes>"
      ]
     },
     "metadata": {},
     "output_type": "display_data"
    }
   ],
   "source": [
    "fig, axs = plt.subplots(1,1, figsize=(12, 5), tight_layout=True)\n",
    "\n",
    "fig.suptitle('PBI (Var.%)\\n(1922, 2023)', weight='bold', fontsize='medium')\n",
    "\n",
    "\n",
    "axs.plot(pbi_procesado['fechas'], pbi_procesado['var_pbi'], color='red', linewidth=0.8, label='PBI (Var.%)')\n",
    "\n",
    "\n",
    "axs.yaxis.set_major_formatter(lambda x, pos: f'{round(x*100)}')\n",
    "axs.set_xticks(range(1923, 2024, 10))\n",
    "axs.set_yticks(list(np.arange(-0.14, 0.15, 0.02)))\n",
    "axs.set_ylim(-0.14, 0.14)\n",
    "axs.grid(True, linewidth=0.6)\n",
    "axs.set_xlim(1923, 2023)\n",
    "axs.legend(loc='lower center')\n",
    "\n",
    "plt.show()"
   ]
  },
  {
   "cell_type": "markdown",
   "metadata": {},
   "source": [
    "## The hitman"
   ]
  },
  {
   "cell_type": "markdown",
   "metadata": {},
   "source": [
    "2. Retrieve the up-to-date data for the monthly GDP in index (2007=100) from this [link](https://estadisticas.bcrp.gob.pe/estadisticas/series/mensuales/producto-bruto-interno-y-demanda-interna-variaciones-indice-2007). Then, calculate the the 5-year average monthly growth previous to the pandemics (ending in Feb-2020) for the 12-month rolling mean of the index, and project the alternative scenario of the Peruvian economy without the COVID-19. Then plot them out and provide insight from the gap between the real data and the pre-pandemic trend.\n",
    "\n",
    "    Hint1: You may use the regression type of your election, but the OLS is recommended. \n",
    "    \n",
    "    Hint2: Your plot should look somethig like this. You aren´t required to add flags/annotations/texts inside the graph <img src=\"growth_gdp_pandemics.png\" max-width=\"300\">\n",
    "\n",
    "    Hint3: For more details about calculation, review this post from [The Economist](https://www.economist.com/graphic-detail/2021/10/28/americas-post-covid-economic-recovery-suffers-a-setback)\n",
    "    \n"
   ]
  },
  {
   "cell_type": "code",
   "execution_count": 250,
   "metadata": {},
   "outputs": [],
   "source": [
    "# Solution"
   ]
  },
  {
   "cell_type": "code",
   "execution_count": 251,
   "metadata": {},
   "outputs": [],
   "source": [
    "import datetime"
   ]
  },
  {
   "cell_type": "code",
   "execution_count": 252,
   "metadata": {},
   "outputs": [],
   "source": [
    "url_base = 'https://estadisticas.bcrp.gob.pe/estadisticas/series/api/'\n",
    "cod_ser = 'PN01770AM'\n",
    "formato = '/json'\n",
    "per = '/2014-1/2023-10'\n",
    "\n",
    "url = f'{url_base}{cod_ser}{formato}{per}'"
   ]
  },
  {
   "cell_type": "code",
   "execution_count": 253,
   "metadata": {},
   "outputs": [
    {
     "data": {
      "text/plain": [
       "dict_keys(['config', 'periods'])"
      ]
     },
     "execution_count": 253,
     "metadata": {},
     "output_type": "execute_result"
    }
   ],
   "source": [
    "response = requests.get(url)\n",
    "response_json = response.json()\n",
    "response_json.keys()"
   ]
  },
  {
   "cell_type": "code",
   "execution_count": 254,
   "metadata": {},
   "outputs": [
    {
     "data": {
      "text/plain": [
       "'Producto bruto interno y demanda interna (índice 2007=100) - PBI'"
      ]
     },
     "execution_count": 254,
     "metadata": {},
     "output_type": "execute_result"
    }
   ],
   "source": [
    "nombre_serie = response_json['config']['series'][0]['name']\n",
    "nombre_serie"
   ]
  },
  {
   "cell_type": "code",
   "execution_count": 255,
   "metadata": {},
   "outputs": [],
   "source": [
    "data_raw = response_json['periods']\n",
    "\n",
    "fecha_list = []\n",
    "pbi_list = []\n",
    "\n",
    "for element in data_raw:\n",
    "    fecha_list.append(element['name'])\n",
    "    pbi_list.append(element['values'][0])"
   ]
  },
  {
   "cell_type": "code",
   "execution_count": 256,
   "metadata": {},
   "outputs": [],
   "source": [
    "pbi_dict = {'fechas': fecha_list, 'pbi_mensual': pbi_list}\n",
    "pbi_df = pd.DataFrame(pbi_dict)\n",
    "pbi_df['pbi_mensual'] = pbi_df['pbi_mensual'].astype(float)"
   ]
  },
  {
   "cell_type": "code",
   "execution_count": 257,
   "metadata": {},
   "outputs": [],
   "source": [
    "meses = {'Ene.': 'Jan. ', 'Feb.': 'Feb. ', 'Mar.': 'Mar. ', 'Abr.': 'Apr. ', 'May.': 'May. ', 'Jun.': 'Jun. ',\n",
    "         'Jul.': 'Jul. ', 'Ago.': 'Aug. ', 'Sep.': 'Sep. ', 'Oct.': 'Oct. ', 'Nov.': 'Nov. ', 'Dic.': 'Dec. '}"
   ]
  },
  {
   "cell_type": "code",
   "execution_count": 258,
   "metadata": {},
   "outputs": [],
   "source": [
    "pbi_df['fechas'] = pbi_df['fechas'].replace(meses, regex=True)"
   ]
  },
  {
   "cell_type": "code",
   "execution_count": 259,
   "metadata": {},
   "outputs": [],
   "source": [
    "pbi_df['fechas'] = pd.to_datetime(pbi_df['fechas'], format='%b. %Y')"
   ]
  },
  {
   "cell_type": "code",
   "execution_count": 260,
   "metadata": {},
   "outputs": [],
   "source": [
    "pbi_df['pbi_des_mensual'] = pbi_df['pbi_mensual'].rolling(window=12).mean()"
   ]
  },
  {
   "cell_type": "code",
   "execution_count": 261,
   "metadata": {},
   "outputs": [
    {
     "data": {
      "text/plain": [
       "0             NaN\n",
       "1             NaN\n",
       "2             NaN\n",
       "3             NaN\n",
       "4             NaN\n",
       "          ...    \n",
       "113    177.103408\n",
       "114    176.926177\n",
       "115    176.848477\n",
       "116    176.651824\n",
       "117    176.526213\n",
       "Name: pbi_des_mensual, Length: 118, dtype: float64"
      ]
     },
     "execution_count": 261,
     "metadata": {},
     "output_type": "execute_result"
    }
   ],
   "source": [
    "pbi_df['pbi_des_mensual']"
   ]
  },
  {
   "cell_type": "code",
   "execution_count": 262,
   "metadata": {},
   "outputs": [
    {
     "data": {
      "text/plain": [
       "73    172.012284\n",
       "Name: pbi_des_mensual, dtype: float64"
      ]
     },
     "execution_count": 262,
     "metadata": {},
     "output_type": "execute_result"
    }
   ],
   "source": [
    "pbi_df.loc[(pbi_df['fechas']=='2020-02')]['pbi_des_mensual']"
   ]
  },
  {
   "cell_type": "code",
   "execution_count": 263,
   "metadata": {},
   "outputs": [],
   "source": [
    "pbi_df = (\n",
    "    pbi_df\n",
    "    .assign(\n",
    "        pbi_month_feb_2020_index= lambda x: ( ( pbi_df['pbi_des_mensual'] * 100 ) / pbi_df.loc[(pbi_df['fechas']=='2020-02')]['pbi_des_mensual'].values ) \n",
    "        )\n",
    "        .dropna()\n",
    ")"
   ]
  },
  {
   "cell_type": "code",
   "execution_count": 264,
   "metadata": {},
   "outputs": [],
   "source": [
    "import statsmodels.api as sm"
   ]
  },
  {
   "cell_type": "code",
   "execution_count": 265,
   "metadata": {},
   "outputs": [
    {
     "data": {
      "text/html": [
       "<div>\n",
       "<style scoped>\n",
       "    .dataframe tbody tr th:only-of-type {\n",
       "        vertical-align: middle;\n",
       "    }\n",
       "\n",
       "    .dataframe tbody tr th {\n",
       "        vertical-align: top;\n",
       "    }\n",
       "\n",
       "    .dataframe thead th {\n",
       "        text-align: right;\n",
       "    }\n",
       "</style>\n",
       "<table border=\"1\" class=\"dataframe\">\n",
       "  <thead>\n",
       "    <tr style=\"text-align: right;\">\n",
       "      <th></th>\n",
       "      <th>fechas</th>\n",
       "      <th>pbi_mensual</th>\n",
       "      <th>pbi_des_mensual</th>\n",
       "      <th>pbi_month_feb_2020_index</th>\n",
       "    </tr>\n",
       "  </thead>\n",
       "  <tbody>\n",
       "    <tr>\n",
       "      <th>11</th>\n",
       "      <td>2014-12-01</td>\n",
       "      <td>159.976450</td>\n",
       "      <td>146.168723</td>\n",
       "      <td>84.975747</td>\n",
       "    </tr>\n",
       "    <tr>\n",
       "      <th>12</th>\n",
       "      <td>2015-01-01</td>\n",
       "      <td>138.197687</td>\n",
       "      <td>146.345675</td>\n",
       "      <td>85.078619</td>\n",
       "    </tr>\n",
       "    <tr>\n",
       "      <th>13</th>\n",
       "      <td>2015-02-01</td>\n",
       "      <td>137.470300</td>\n",
       "      <td>146.485086</td>\n",
       "      <td>85.159666</td>\n",
       "    </tr>\n",
       "    <tr>\n",
       "      <th>14</th>\n",
       "      <td>2015-03-01</td>\n",
       "      <td>148.339778</td>\n",
       "      <td>146.837408</td>\n",
       "      <td>85.364489</td>\n",
       "    </tr>\n",
       "    <tr>\n",
       "      <th>15</th>\n",
       "      <td>2015-04-01</td>\n",
       "      <td>152.038605</td>\n",
       "      <td>147.346845</td>\n",
       "      <td>85.660653</td>\n",
       "    </tr>\n",
       "    <tr>\n",
       "      <th>...</th>\n",
       "      <td>...</td>\n",
       "      <td>...</td>\n",
       "      <td>...</td>\n",
       "      <td>...</td>\n",
       "    </tr>\n",
       "    <tr>\n",
       "      <th>113</th>\n",
       "      <td>2023-06-01</td>\n",
       "      <td>177.334725</td>\n",
       "      <td>177.103408</td>\n",
       "      <td>102.959745</td>\n",
       "    </tr>\n",
       "    <tr>\n",
       "      <th>114</th>\n",
       "      <td>2023-07-01</td>\n",
       "      <td>175.480990</td>\n",
       "      <td>176.926177</td>\n",
       "      <td>102.856711</td>\n",
       "    </tr>\n",
       "    <tr>\n",
       "      <th>115</th>\n",
       "      <td>2023-08-01</td>\n",
       "      <td>178.066866</td>\n",
       "      <td>176.848477</td>\n",
       "      <td>102.811539</td>\n",
       "    </tr>\n",
       "    <tr>\n",
       "      <th>116</th>\n",
       "      <td>2023-09-01</td>\n",
       "      <td>179.973753</td>\n",
       "      <td>176.651824</td>\n",
       "      <td>102.697214</td>\n",
       "    </tr>\n",
       "    <tr>\n",
       "      <th>117</th>\n",
       "      <td>2023-10-01</td>\n",
       "      <td>181.396080</td>\n",
       "      <td>176.526213</td>\n",
       "      <td>102.624190</td>\n",
       "    </tr>\n",
       "  </tbody>\n",
       "</table>\n",
       "<p>107 rows × 4 columns</p>\n",
       "</div>"
      ],
      "text/plain": [
       "        fechas  pbi_mensual  pbi_des_mensual  pbi_month_feb_2020_index\n",
       "11  2014-12-01   159.976450       146.168723                 84.975747\n",
       "12  2015-01-01   138.197687       146.345675                 85.078619\n",
       "13  2015-02-01   137.470300       146.485086                 85.159666\n",
       "14  2015-03-01   148.339778       146.837408                 85.364489\n",
       "15  2015-04-01   152.038605       147.346845                 85.660653\n",
       "..         ...          ...              ...                       ...\n",
       "113 2023-06-01   177.334725       177.103408                102.959745\n",
       "114 2023-07-01   175.480990       176.926177                102.856711\n",
       "115 2023-08-01   178.066866       176.848477                102.811539\n",
       "116 2023-09-01   179.973753       176.651824                102.697214\n",
       "117 2023-10-01   181.396080       176.526213                102.624190\n",
       "\n",
       "[107 rows x 4 columns]"
      ]
     },
     "execution_count": 265,
     "metadata": {},
     "output_type": "execute_result"
    }
   ],
   "source": [
    "pbi_df"
   ]
  },
  {
   "cell_type": "code",
   "execution_count": 266,
   "metadata": {},
   "outputs": [],
   "source": [
    "dates = pd.date_range(start='2014-12-01\t', end='2020-02-01', freq='M')\n",
    "y= pbi_df.loc[pbi_df['fechas']<'2020-02-01', 'pbi_month_feb_2020_index']\n",
    "x = np.arange(len(dates))\n",
    "X = sm.add_constant(x)\n",
    "model = sm.OLS(y, X)\n",
    "results = model.fit()"
   ]
  },
  {
   "cell_type": "code",
   "execution_count": 268,
   "metadata": {},
   "outputs": [
    {
     "data": {
      "image/png": "[encoded data removed]",
      "text/plain": [
       "<Figure size 800x500 with 1 Axes>"
      ]
     },
     "metadata": {},
     "output_type": "display_data"
    }
   ],
   "source": [
    "future_dates = pd.date_range(start='2020-02-01', end='2023-10-01', freq='M')\n",
    "future_x = np.arange(len(dates), len(dates) + len(future_dates))\n",
    "future_X = sm.add_constant(future_x)\n",
    "future_y_pred = results.predict(future_X)\n",
    "\n",
    "\n",
    "\n",
    "data_to_plot = pbi_df[['fechas', 'pbi_month_feb_2020_index']]\n",
    "fig, axs = plt.subplots(1, 1, figsize=(8, 5), tight_layout=True)\n",
    "\n",
    "fig.suptitle('La Economía peruana se estanca\\nPerú: Evolución del PBI real, índice (Feb-20=100) del promedio móvil 12 meses')\n",
    "\n",
    "axs.plot(data_to_plot['fechas'], data_to_plot['pbi_month_feb_2020_index'], linewidth=4, label='Observado')\n",
    "axs.plot(future_dates, future_y_pred, '--', linewidth=4, color= 'lightblue', label = 'Tendencia prepandemia')\n",
    "axs.axvline(x=datetime.date(2020, 2, 1), color='red',alpha=1, linewidth=0.9, label = 'Feb-2020')\n",
    "\n",
    "axs.set_ylim([87, 112])\n",
    "\n",
    "axs.set_xlim([datetime.date(2015, 4, 1), datetime.date(2023, 10, 1)])\n",
    "axs.tick_params(labelrotation=0, left=False)\n",
    "axs.legend(loc='upper left')\n",
    "axs.spines[['top', 'bottom', 'left', 'right']].set_visible(False)\n",
    "axs.yaxis.grid(True, linestyle='-', which='major', color='gray', alpha=0.3)\n",
    "\n",
    "plt.show()"
   ]
  },
  {
   "cell_type": "markdown",
   "metadata": {},
   "source": [
    "## The winners"
   ]
  },
  {
   "cell_type": "markdown",
   "metadata": {},
   "source": [
    "- Based on the [Nasdaq Stock Screener](https://www.nasdaq.com/market-activity/stocks/screener), identify the three largest companies in the three larger sectors defined by market cap\n",
    "- Elaborate a list/dictionary/series (what ever you think is more suitable) containing all tickers (or symbols) and sectors from these companies.\n",
    "- So far, you can download data from Nasdaq, web scrape it or copy it manually. It doesn´t matter\n",
    "- Then, use `yfinance` library to retrieve the market data for all the 9 firms\n",
    "- Construct a table with the most common *institucional holders* by sector. Is there any interesting pattern? Hint: loop the `institutional_holders` from `yfinance`\n",
    "- Calculate the distribution of the daily percentage returns for the 3 larger companies (defined by market cap) along the last 5 years. Plot your results (feel free to find the most appealing way to represent them) and provide critical insights"
   ]
  },
  {
   "cell_type": "markdown",
   "metadata": {},
   "source": [
    "$$\n",
    "  percentage\\_return_{t} = \\frac{price_t-price_{t-1}}{price_t}*100+dividends (\\%)\n",
    "$$"
   ]
  },
  {
   "cell_type": "markdown",
   "metadata": {},
   "source": [
    "- Hint1: you can find the `dividens` through the `yfinance`'s \n",
    "`Ticker()`\n",
    "- Hint2: some firms may not be paying dividends"
   ]
  },
  {
   "cell_type": "code",
   "execution_count": null,
   "metadata": {},
   "outputs": [],
   "source": [
    "# Solution"
   ]
  }
 ],
 "metadata": {
  "hide_input": false,
  "kernelspec": {
   "display_name": "Python 3 (ipykernel)",
   "language": "python",
   "name": "python3"
  },
  "language_info": {
   "codemirror_mode": {
    "name": "ipython",
    "version": 3
   },
   "file_extension": ".py",
   "mimetype": "text/x-python",
   "name": "python",
   "nbconvert_exporter": "python",
   "pygments_lexer": "ipython3",
   "version": "3.12.0"
  },
  "toc": {
   "base_numbering": 1,
   "nav_menu": {},
   "number_sections": true,
   "sideBar": true,
   "skip_h1_title": false,
   "title_cell": "Table of Contents",
   "title_sidebar": "Contents",
   "toc_cell": false,
   "toc_position": {},
   "toc_section_display": true,
   "toc_window_display": false
  }
 },
 "nbformat": 4,
 "nbformat_minor": 4
}
